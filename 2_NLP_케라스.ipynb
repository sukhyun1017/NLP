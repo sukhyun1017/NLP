{
  "nbformat": 4,
  "nbformat_minor": 0,
  "metadata": {
    "colab": {
      "name": "2.NLP-케라스",
      "provenance": [],
      "authorship_tag": "ABX9TyPKp7Ipi8mCqdN4O4nkTQHa",
      "include_colab_link": true
    },
    "kernelspec": {
      "name": "python3",
      "display_name": "Python 3"
    },
    "language_info": {
      "name": "python"
    }
  },
  "cells": [
    {
      "cell_type": "markdown",
      "metadata": {
        "id": "view-in-github",
        "colab_type": "text"
      },
      "source": [
        "<a href=\"https://colab.research.google.com/github/sukhyun1017/NLP-study/blob/main/2_NLP_%EC%BC%80%EB%9D%BC%EC%8A%A4.ipynb\" target=\"_parent\"><img src=\"https://colab.research.google.com/assets/colab-badge.svg\" alt=\"Open In Colab\"/></a>"
      ]
    },
    {
      "cell_type": "markdown",
      "source": [
        "전처리"
      ],
      "metadata": {
        "id": "03XwXDXBSYYD"
      }
    },
    {
      "cell_type": "code",
      "source": [
        "from tensorflow.keras.preprocessing.text import Tokenizer\n",
        "from tensorflow.keras.preprocessing.sequence import pad_sequences\n",
        "\n",
        "tokenizer = Tokenizer()\n",
        "train_text = \"The earth is an awesome place live\"\n",
        "#단어집합 생성\n",
        "tokenizer.fit_on_texts([train_text])\n",
        "#정수인코딩\n",
        "sub_text = \"The earth is an great place live\"\n",
        "sequences = tokenizer.texts_to_sequences([sub_text])[0]\n",
        "\n",
        "print(\"정수 인코딩 : \",sequences)\n",
        "print(\"단어 집합: \",tokenizer.word_index)"
      ],
      "metadata": {
        "colab": {
          "base_uri": "https://localhost:8080/"
        },
        "id": "SVK4GLw_SXtZ",
        "outputId": "069c489f-d51f-4683-d66b-bcff56d746bc"
      },
      "execution_count": 3,
      "outputs": [
        {
          "output_type": "stream",
          "name": "stdout",
          "text": [
            "정수 인코딩 :  [1, 2, 3, 4, 6, 7]\n",
            "단어 집합:  {'the': 1, 'earth': 2, 'is': 3, 'an': 4, 'awesome': 5, 'place': 6, 'live': 7}\n"
          ]
        }
      ]
    },
    {
      "cell_type": "code",
      "source": [
        "pad_sequences([[1, 2, 3], [3, 4, 5, 6], [7, 8]], maxlen=3, padding='post',truncating='post') #'pre' 앞에 0을 채움 'post' 뒤에 0을 채움"
      ],
      "metadata": {
        "colab": {
          "base_uri": "https://localhost:8080/"
        },
        "id": "vfKvSlS3UukL",
        "outputId": "8fee9e57-cd96-42b7-de5d-76838edb05c0"
      },
      "execution_count": 5,
      "outputs": [
        {
          "output_type": "execute_result",
          "data": {
            "text/plain": [
              "array([[1, 2, 3],\n",
              "       [3, 4, 5],\n",
              "       [7, 8, 0]], dtype=int32)"
            ]
          },
          "metadata": {},
          "execution_count": 5
        }
      ]
    },
    {
      "cell_type": "markdown",
      "source": [
        "워드 임베딩"
      ],
      "metadata": {
        "id": "dyTqH3i6WLAo"
      }
    },
    {
      "cell_type": "code",
      "source": [
        "'''\n",
        "keras.layers.Embedding(input_dim, \n",
        "                       output_dim, \n",
        "                       embeddings_initializer='uniform', \n",
        "                       embeddings_regularizer=None,\n",
        "                       activity_regularizer=None,\n",
        "                       embeddings_constraint=None, \n",
        "                       mask_zero=False, \n",
        "                       input_length=None)\n",
        "'''"
      ],
      "metadata": {
        "id": "Ov5hQPgiVmbi"
      },
      "execution_count": null,
      "outputs": []
    },
    {
      "cell_type": "markdown",
      "source": [
        "모델링"
      ],
      "metadata": {
        "id": "SsHJ-kcbXEru"
      }
    },
    {
      "cell_type": "code",
      "source": [
        "from tensorflow.keras.models import Sequential\n",
        "from tensorflow.keras.layers import Dense\n",
        "\n",
        "'''\n",
        "model = Sequential()\n",
        "model.add(...)\n",
        "'''"
      ],
      "metadata": {
        "id": "Z4iVw-6dXBTf"
      },
      "execution_count": null,
      "outputs": []
    },
    {
      "cell_type": "markdown",
      "source": [
        "케라스의 함수형"
      ],
      "metadata": {
        "id": "0lyvKvpoZU4s"
      }
    },
    {
      "cell_type": "code",
      "source": [
        "from tensorflow.keras.layers import Input, Dense\n",
        "from tensorflow.keras import optimizers\n",
        "from tensorflow.keras.models import Model\n",
        "\n",
        "X = [1, 2, 3, 4, 5, 6, 7, 8, 9] # 공부하는 시간\n",
        "y = [11, 22, 33, 44, 53, 66, 77, 87, 95] # 각 공부하는 시간에 맵핑되는 성적\n",
        "\n",
        "inputs = Input(shape=(1,))\n",
        "output = Dense(1,activation='linear')(inputs)\n",
        "model=Model(inputs,output)\n",
        "\n",
        "sgd = optimizers.SGD(lr=0.01)\n",
        "\n",
        "model.compile(optimizer=sgd,loss='mse',metrics=['mse'])\n",
        "model.fit(X,y,epochs=20)"
      ],
      "metadata": {
        "colab": {
          "base_uri": "https://localhost:8080/"
        },
        "id": "REqnHUI3XRuR",
        "outputId": "5c50c165-edff-41d2-8cff-06b06ccca230"
      },
      "execution_count": 15,
      "outputs": [
        {
          "output_type": "stream",
          "name": "stdout",
          "text": [
            "Epoch 1/20\n"
          ]
        },
        {
          "output_type": "stream",
          "name": "stderr",
          "text": [
            "/usr/local/lib/python3.7/dist-packages/keras/optimizer_v2/gradient_descent.py:102: UserWarning: The `lr` argument is deprecated, use `learning_rate` instead.\n",
            "  super(SGD, self).__init__(name, **kwargs)\n"
          ]
        },
        {
          "output_type": "stream",
          "name": "stdout",
          "text": [
            "1/1 [==============================] - 0s 258ms/step - loss: 3012.6807 - mse: 3012.6807\n",
            "Epoch 2/20\n",
            "1/1 [==============================] - 0s 7ms/step - loss: 371.7084 - mse: 371.7084\n",
            "Epoch 3/20\n",
            "1/1 [==============================] - 0s 8ms/step - loss: 46.7559 - mse: 46.7559\n",
            "Epoch 4/20\n",
            "1/1 [==============================] - 0s 8ms/step - loss: 6.7722 - mse: 6.7722\n",
            "Epoch 5/20\n",
            "1/1 [==============================] - 0s 14ms/step - loss: 1.8517 - mse: 1.8517\n",
            "Epoch 6/20\n",
            "1/1 [==============================] - 0s 7ms/step - loss: 1.2456 - mse: 1.2456\n",
            "Epoch 7/20\n",
            "1/1 [==============================] - 0s 5ms/step - loss: 1.1703 - mse: 1.1703\n",
            "Epoch 8/20\n",
            "1/1 [==============================] - 0s 8ms/step - loss: 1.1603 - mse: 1.1603\n",
            "Epoch 9/20\n",
            "1/1 [==============================] - 0s 7ms/step - loss: 1.1584 - mse: 1.1584\n",
            "Epoch 10/20\n",
            "1/1 [==============================] - 0s 8ms/step - loss: 1.1574 - mse: 1.1574\n",
            "Epoch 11/20\n",
            "1/1 [==============================] - 0s 7ms/step - loss: 1.1566 - mse: 1.1566\n",
            "Epoch 12/20\n",
            "1/1 [==============================] - 0s 7ms/step - loss: 1.1558 - mse: 1.1558\n",
            "Epoch 13/20\n",
            "1/1 [==============================] - 0s 8ms/step - loss: 1.1550 - mse: 1.1550\n",
            "Epoch 14/20\n",
            "1/1 [==============================] - 0s 6ms/step - loss: 1.1542 - mse: 1.1542\n",
            "Epoch 15/20\n",
            "1/1 [==============================] - 0s 6ms/step - loss: 1.1535 - mse: 1.1535\n",
            "Epoch 16/20\n",
            "1/1 [==============================] - 0s 6ms/step - loss: 1.1527 - mse: 1.1527\n",
            "Epoch 17/20\n",
            "1/1 [==============================] - 0s 7ms/step - loss: 1.1519 - mse: 1.1519\n",
            "Epoch 18/20\n",
            "1/1 [==============================] - 0s 5ms/step - loss: 1.1512 - mse: 1.1512\n",
            "Epoch 19/20\n",
            "1/1 [==============================] - 0s 7ms/step - loss: 1.1504 - mse: 1.1504\n",
            "Epoch 20/20\n",
            "1/1 [==============================] - 0s 7ms/step - loss: 1.1497 - mse: 1.1497\n"
          ]
        },
        {
          "output_type": "execute_result",
          "data": {
            "text/plain": [
              "<keras.callbacks.History at 0x7f57fea64ad0>"
            ]
          },
          "metadata": {},
          "execution_count": 15
        }
      ]
    },
    {
      "cell_type": "markdown",
      "source": [
        "다중입력 예시"
      ],
      "metadata": {
        "id": "8FcbyRaoe4S-"
      }
    },
    {
      "cell_type": "code",
      "source": [
        "from tensorflow.keras.layers import Input, Dense, concatenate\n",
        "from tensorflow.keras.models import Model\n",
        "\n",
        "# 두 개의 입력층을 정의\n",
        "inputA = Input(shape=(64,))\n",
        "inputB = Input(shape=(128,))\n",
        "\n",
        "# 첫번째 입력층으로부터 분기되어 진행되는 인공 신경망을 정의\n",
        "x = Dense(16, activation=\"relu\")(inputA)\n",
        "x = Dense(8, activation=\"relu\")(x)\n",
        "x = Model(inputs=inputA, outputs=x)\n",
        "\n",
        "# 두번째 입력층으로부터 분기되어 진행되는 인공 신경망을 정의\n",
        "y = Dense(64, activation=\"relu\")(inputB)\n",
        "y = Dense(32, activation=\"relu\")(y)\n",
        "y = Dense(8, activation=\"relu\")(y)\n",
        "y = Model(inputs=inputB, outputs=y)\n",
        "\n",
        "# 두개의 인공 신경망의 출력을 연결(concatenate)\n",
        "result = concatenate([x.output, y.output])\n",
        "\n",
        "z = Dense(2, activation=\"relu\")(result)\n",
        "z = Dense(1, activation=\"linear\")(z)\n",
        "\n",
        "model = Model(inputs=[x.input, y.input], outputs=z)"
      ],
      "metadata": {
        "id": "koHvXmnmeSts"
      },
      "execution_count": 19,
      "outputs": []
    },
    {
      "cell_type": "markdown",
      "source": [
        "RNN 예시"
      ],
      "metadata": {
        "id": "5KWZmh5Ce9YO"
      }
    },
    {
      "cell_type": "code",
      "source": [
        "from tensorflow.keras.layers import Input, Dense, LSTM\n",
        "from tensorflow.keras.models import Model\n",
        "\n",
        "inputs = Input(shape=(50,1))\n",
        "lstm_layer = LSTM(10)(inputs)\n",
        "x = Dense(10, activation='relu')(lstm_layer)\n",
        "output = Dense(1, activation='sigmoid')(x)\n",
        "\n",
        "model = Model(inputs=inputs, outputs=output)"
      ],
      "metadata": {
        "id": "pgUY1JWJe_3h"
      },
      "execution_count": 20,
      "outputs": []
    }
  ]
}